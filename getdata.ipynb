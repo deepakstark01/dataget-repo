{
 "cells": [
  {
   "cell_type": "code",
   "execution_count": 29,
   "id": "f25376ad",
   "metadata": {},
   "outputs": [],
   "source": [
    "import pandas as pd\n",
    "from selenium import webdriver\n",
    "import time\n",
    "import random\n",
    "from selenium.webdriver.support.ui import WebDriverWait\n",
    "from selenium.webdriver.firefox.options import Options\n",
    "from selenium.webdriver.support import expected_conditions as EC\n",
    "from selenium.webdriver.common.by import By\n",
    "from selenium.webdriver.common.keys import Keys\n",
    "from selenium.common.exceptions import TimeoutException\n",
    "from PIL import Image\n",
    "import os"
   ]
  },
  {
   "cell_type": "code",
   "execution_count": 37,
   "id": "c1af9501",
   "metadata": {},
   "outputs": [],
   "source": [
    "\n",
    "# firefox_options = FirefoxOptions()\n",
    "firefox_options = Options()\n",
    "#firefox_options.add_argument('--headless')\n",
    "firefox_options.add_argument('--no-sandbox')\n",
    "firefox_options.add_argument('--start-maximized')\n",
    "firefox_options.add_argument('--start-fullscreen')\n",
    "firefox_options.add_argument('--single-process')\n",
    "firefox_options.add_argument(\"--disable-notifications\")\n",
    "firefox_options.add_argument('--disable-dev-shm-usage')\n",
    "firefox_options.add_argument('--disable-extensions')\n",
    "firefox_options.add_argument('--disable-gpu')\n",
    "firefox_options.add_argument('--incognito')\n",
    "firefox_options.add_argument('--disable-dev-shm-usage')\n",
    "firefox_options.add_argument(\"--disable-blink-features\")\n",
    "firefox_options.add_argument(\"--disable-blink-features=AutomationControlled\")\n",
    "# driver = webdriver.Firefox()  # without headless\n",
    "driver = webdriver.Chrome() \n",
    "driver.get(\"https://www.m88pqn.com/cashier/deposit\")\n",
    "driver.maximize_window()\n",
    "# wait = WebDriverWait(driver, 100)"
   ]
  },
  {
   "cell_type": "code",
   "execution_count": 38,
   "id": "846280f2",
   "metadata": {},
   "outputs": [],
   "source": [
    "def random_delay(min_delay, max_delay):\n",
    "    delay = random.uniform(min_delay, max_delay)\n",
    "    time.sleep(delay)"
   ]
  },
  {
   "cell_type": "code",
   "execution_count": 39,
   "id": "dde7edf6",
   "metadata": {},
   "outputs": [],
   "source": [
    "def main():\n",
    "    # WebDriverWait(driver, 10).until(EC.element_to_be_clickable((By.XPATH,\"//button[@id='login-button']\"))).click()\n",
    "    username = 'Saa'\n",
    "    password = 'Pixel2022'\n",
    "    WebDriverWait(driver, 10).until(EC.element_to_be_clickable((By.XPATH, \"*//input[@placeholder='Input your registered username']\"))).send_keys(username)\n",
    "    WebDriverWait(driver, 10).until(EC.element_to_be_clickable((By.XPATH, \"//div/input[@placeholder='Type your password']\"))).send_keys(password)\n",
    "    WebDriverWait(driver, 10).until(EC.element_to_be_clickable((By.XPATH, \"//div/input[@placeholder='Type your password']\"))).send_keys(Keys.ENTER)\n",
    "    random_delay(3, 6)\n",
    "    driver.execute_script(\"window.scrollTo(0,700)\")\n",
    "    # driver.switch_to.frame(\"//iframe[@name='deposit-iframe']\")\n",
    "    # iframe = driver.find_element(By.XPATH,(\"//iframe[@name='deposit-iframe']\"))\n",
    "    iframe = driver.find_element(By.XPATH,(\"(//iframe)[1]\"))\n",
    "    driver.switch_to.frame(iframe)\n",
    "    WebDriverWait(driver,10).until(EC.presence_of_element_located((By.XPATH,\"(*//a//span[contains(text(),'Instant')])[1]\"))).click()\n",
    "    amount = 1000\n",
    "    WebDriverWait(driver, 100).until(EC.presence_of_element_located((By.XPATH, \"//input[@placeholder='0.00']\"))).send_keys(amount)\n",
    "    WebDriverWait(driver, 100).until(EC.presence_of_element_located((By.XPATH, \"//button/span[contains(text(),'Submit')]\"))).click()\n",
    "    random_delay(3, 6)\n",
    "    WebDriverWait(driver, 100).until(EC.presence_of_element_located((By.XPATH, \"//button/span[contains(text(),'Confirm')]\"))).click()\n",
    "    ScreenShotwindow = driver.window_handles[1]\n",
    "    driver.switch_to.window(ScreenShotwindow)\n",
    "    driver.save_screenshot(\"shot.png\")\n",
    "\n"
   ]
  },
  {
   "cell_type": "code",
   "execution_count": 40,
   "id": "49bab4a9",
   "metadata": {},
   "outputs": [
    {
     "ename": "TimeoutException",
     "evalue": "Message: \nStacktrace:\nBacktrace:\n\tGetHandleVerifier [0x0025A813+48355]\n\t(No symbol) [0x001EC4B1]\n\t(No symbol) [0x000F5358]\n\t(No symbol) [0x001209A5]\n\t(No symbol) [0x00120B3B]\n\t(No symbol) [0x0014E232]\n\t(No symbol) [0x0013A784]\n\t(No symbol) [0x0014C922]\n\t(No symbol) [0x0013A536]\n\t(No symbol) [0x001182DC]\n\t(No symbol) [0x001193DD]\n\tGetHandleVerifier [0x004BAABD+2539405]\n\tGetHandleVerifier [0x004FA78F+2800735]\n\tGetHandleVerifier [0x004F456C+2775612]\n\tGetHandleVerifier [0x002E51E0+616112]\n\t(No symbol) [0x001F5F8C]\n\t(No symbol) [0x001F2328]\n\t(No symbol) [0x001F240B]\n\t(No symbol) [0x001E4FF7]\n\tBaseThreadInitThunk [0x76B9FEF9+25]\n\tRtlGetAppContainerNamedObjectPath [0x76FA7BBE+286]\n\tRtlGetAppContainerNamedObjectPath [0x76FA7B8E+238]\n\t(No symbol) [0x00000000]\n",
     "output_type": "error",
     "traceback": [
      "\u001b[1;31m---------------------------------------------------------------------------\u001b[0m",
      "\u001b[1;31mTimeoutException\u001b[0m                          Traceback (most recent call last)",
      "Cell \u001b[1;32mIn[40], line 1\u001b[0m\n\u001b[1;32m----> 1\u001b[0m \u001b[43mmain\u001b[49m\u001b[43m(\u001b[49m\u001b[43m)\u001b[49m\n",
      "Cell \u001b[1;32mIn[39], line 13\u001b[0m, in \u001b[0;36mmain\u001b[1;34m()\u001b[0m\n\u001b[0;32m     11\u001b[0m iframe \u001b[38;5;241m=\u001b[39m driver\u001b[38;5;241m.\u001b[39mfind_element(By\u001b[38;5;241m.\u001b[39mXPATH,(\u001b[38;5;124m\"\u001b[39m\u001b[38;5;124m(//iframe)[1]\u001b[39m\u001b[38;5;124m\"\u001b[39m))\n\u001b[0;32m     12\u001b[0m driver\u001b[38;5;241m.\u001b[39mswitch_to\u001b[38;5;241m.\u001b[39mframe(iframe)\n\u001b[1;32m---> 13\u001b[0m \u001b[43mWebDriverWait\u001b[49m\u001b[43m(\u001b[49m\u001b[43mdriver\u001b[49m\u001b[43m,\u001b[49m\u001b[38;5;241;43m10\u001b[39;49m\u001b[43m)\u001b[49m\u001b[38;5;241;43m.\u001b[39;49m\u001b[43muntil\u001b[49m\u001b[43m(\u001b[49m\u001b[43mEC\u001b[49m\u001b[38;5;241;43m.\u001b[39;49m\u001b[43mpresence_of_element_located\u001b[49m\u001b[43m(\u001b[49m\u001b[43m(\u001b[49m\u001b[43mBy\u001b[49m\u001b[38;5;241;43m.\u001b[39;49m\u001b[43mXPATH\u001b[49m\u001b[43m,\u001b[49m\u001b[38;5;124;43m\"\u001b[39;49m\u001b[38;5;124;43m(*//a//span[contains(text(),\u001b[39;49m\u001b[38;5;124;43m'\u001b[39;49m\u001b[38;5;124;43mInstant\u001b[39;49m\u001b[38;5;124;43m'\u001b[39;49m\u001b[38;5;124;43m)])[1]\u001b[39;49m\u001b[38;5;124;43m\"\u001b[39;49m\u001b[43m)\u001b[49m\u001b[43m)\u001b[49m\u001b[43m)\u001b[49m\u001b[38;5;241m.\u001b[39mclick()\n\u001b[0;32m     14\u001b[0m amount \u001b[38;5;241m=\u001b[39m \u001b[38;5;241m1000\u001b[39m\n\u001b[0;32m     15\u001b[0m WebDriverWait(driver, \u001b[38;5;241m100\u001b[39m)\u001b[38;5;241m.\u001b[39muntil(EC\u001b[38;5;241m.\u001b[39mpresence_of_element_located((By\u001b[38;5;241m.\u001b[39mXPATH, \u001b[38;5;124m\"\u001b[39m\u001b[38;5;124m//input[@placeholder=\u001b[39m\u001b[38;5;124m'\u001b[39m\u001b[38;5;124m0.00\u001b[39m\u001b[38;5;124m'\u001b[39m\u001b[38;5;124m]\u001b[39m\u001b[38;5;124m\"\u001b[39m)))\u001b[38;5;241m.\u001b[39msend_keys(amount)\n",
      "File \u001b[1;32mC:\\Python310\\lib\\site-packages\\selenium\\webdriver\\support\\wait.py:95\u001b[0m, in \u001b[0;36mWebDriverWait.until\u001b[1;34m(self, method, message)\u001b[0m\n\u001b[0;32m     93\u001b[0m     \u001b[38;5;28;01mif\u001b[39;00m time\u001b[38;5;241m.\u001b[39mmonotonic() \u001b[38;5;241m>\u001b[39m end_time:\n\u001b[0;32m     94\u001b[0m         \u001b[38;5;28;01mbreak\u001b[39;00m\n\u001b[1;32m---> 95\u001b[0m \u001b[38;5;28;01mraise\u001b[39;00m TimeoutException(message, screen, stacktrace)\n",
      "\u001b[1;31mTimeoutException\u001b[0m: Message: \nStacktrace:\nBacktrace:\n\tGetHandleVerifier [0x0025A813+48355]\n\t(No symbol) [0x001EC4B1]\n\t(No symbol) [0x000F5358]\n\t(No symbol) [0x001209A5]\n\t(No symbol) [0x00120B3B]\n\t(No symbol) [0x0014E232]\n\t(No symbol) [0x0013A784]\n\t(No symbol) [0x0014C922]\n\t(No symbol) [0x0013A536]\n\t(No symbol) [0x001182DC]\n\t(No symbol) [0x001193DD]\n\tGetHandleVerifier [0x004BAABD+2539405]\n\tGetHandleVerifier [0x004FA78F+2800735]\n\tGetHandleVerifier [0x004F456C+2775612]\n\tGetHandleVerifier [0x002E51E0+616112]\n\t(No symbol) [0x001F5F8C]\n\t(No symbol) [0x001F2328]\n\t(No symbol) [0x001F240B]\n\t(No symbol) [0x001E4FF7]\n\tBaseThreadInitThunk [0x76B9FEF9+25]\n\tRtlGetAppContainerNamedObjectPath [0x76FA7BBE+286]\n\tRtlGetAppContainerNamedObjectPath [0x76FA7B8E+238]\n\t(No symbol) [0x00000000]\n"
     ]
    }
   ],
   "source": [
    "main()"
   ]
  },
  {
   "cell_type": "code",
   "execution_count": 44,
   "id": "46353230",
   "metadata": {},
   "outputs": [
    {
     "ename": "TimeoutException",
     "evalue": "Message: \nStacktrace:\nBacktrace:\n\tGetHandleVerifier [0x0025A813+48355]\n\t(No symbol) [0x001EC4B1]\n\t(No symbol) [0x000F5358]\n\t(No symbol) [0x001209A5]\n\t(No symbol) [0x00120B3B]\n\t(No symbol) [0x0014E232]\n\t(No symbol) [0x0013A784]\n\t(No symbol) [0x0014C922]\n\t(No symbol) [0x0013A536]\n\t(No symbol) [0x001182DC]\n\t(No symbol) [0x001193DD]\n\tGetHandleVerifier [0x004BAABD+2539405]\n\tGetHandleVerifier [0x004FA78F+2800735]\n\tGetHandleVerifier [0x004F456C+2775612]\n\tGetHandleVerifier [0x002E51E0+616112]\n\t(No symbol) [0x001F5F8C]\n\t(No symbol) [0x001F2328]\n\t(No symbol) [0x001F240B]\n\t(No symbol) [0x001E4FF7]\n\tBaseThreadInitThunk [0x76B9FEF9+25]\n\tRtlGetAppContainerNamedObjectPath [0x76FA7BBE+286]\n\tRtlGetAppContainerNamedObjectPath [0x76FA7B8E+238]\n\t(No symbol) [0x00000000]\n",
     "output_type": "error",
     "traceback": [
      "\u001b[1;31m---------------------------------------------------------------------------\u001b[0m",
      "\u001b[1;31mTimeoutException\u001b[0m                          Traceback (most recent call last)",
      "Cell \u001b[1;32mIn[44], line 1\u001b[0m\n\u001b[1;32m----> 1\u001b[0m \u001b[43mWebDriverWait\u001b[49m\u001b[43m(\u001b[49m\u001b[43mdriver\u001b[49m\u001b[43m,\u001b[49m\u001b[38;5;241;43m10\u001b[39;49m\u001b[43m)\u001b[49m\u001b[38;5;241;43m.\u001b[39;49m\u001b[43muntil\u001b[49m\u001b[43m(\u001b[49m\u001b[43mEC\u001b[49m\u001b[38;5;241;43m.\u001b[39;49m\u001b[43mpresence_of_element_located\u001b[49m\u001b[43m(\u001b[49m\u001b[43m(\u001b[49m\u001b[43mBy\u001b[49m\u001b[38;5;241;43m.\u001b[39;49m\u001b[43mXPATH\u001b[49m\u001b[43m,\u001b[49m\u001b[38;5;124;43m\"\u001b[39;49m\u001b[38;5;124;43m(*//a//span[contains(text(),\u001b[39;49m\u001b[38;5;124;43m'\u001b[39;49m\u001b[38;5;124;43mInstant\u001b[39;49m\u001b[38;5;124;43m'\u001b[39;49m\u001b[38;5;124;43m)])[1]\u001b[39;49m\u001b[38;5;124;43m\"\u001b[39;49m\u001b[43m)\u001b[49m\u001b[43m)\u001b[49m\u001b[43m)\u001b[49m\u001b[38;5;241m.\u001b[39mclick()\n",
      "File \u001b[1;32mC:\\Python310\\lib\\site-packages\\selenium\\webdriver\\support\\wait.py:95\u001b[0m, in \u001b[0;36mWebDriverWait.until\u001b[1;34m(self, method, message)\u001b[0m\n\u001b[0;32m     93\u001b[0m     \u001b[38;5;28;01mif\u001b[39;00m time\u001b[38;5;241m.\u001b[39mmonotonic() \u001b[38;5;241m>\u001b[39m end_time:\n\u001b[0;32m     94\u001b[0m         \u001b[38;5;28;01mbreak\u001b[39;00m\n\u001b[1;32m---> 95\u001b[0m \u001b[38;5;28;01mraise\u001b[39;00m TimeoutException(message, screen, stacktrace)\n",
      "\u001b[1;31mTimeoutException\u001b[0m: Message: \nStacktrace:\nBacktrace:\n\tGetHandleVerifier [0x0025A813+48355]\n\t(No symbol) [0x001EC4B1]\n\t(No symbol) [0x000F5358]\n\t(No symbol) [0x001209A5]\n\t(No symbol) [0x00120B3B]\n\t(No symbol) [0x0014E232]\n\t(No symbol) [0x0013A784]\n\t(No symbol) [0x0014C922]\n\t(No symbol) [0x0013A536]\n\t(No symbol) [0x001182DC]\n\t(No symbol) [0x001193DD]\n\tGetHandleVerifier [0x004BAABD+2539405]\n\tGetHandleVerifier [0x004FA78F+2800735]\n\tGetHandleVerifier [0x004F456C+2775612]\n\tGetHandleVerifier [0x002E51E0+616112]\n\t(No symbol) [0x001F5F8C]\n\t(No symbol) [0x001F2328]\n\t(No symbol) [0x001F240B]\n\t(No symbol) [0x001E4FF7]\n\tBaseThreadInitThunk [0x76B9FEF9+25]\n\tRtlGetAppContainerNamedObjectPath [0x76FA7BBE+286]\n\tRtlGetAppContainerNamedObjectPath [0x76FA7B8E+238]\n\t(No symbol) [0x00000000]\n"
     ]
    }
   ],
   "source": [
    "WebDriverWait(driver,10).until(EC.presence_of_element_located((By.XPATH,\"(*//a//span[contains(text(),'Instant')])[1]\"))).click()"
   ]
  },
  {
   "cell_type": "code",
   "execution_count": null,
   "id": "3ce7ede9",
   "metadata": {},
   "outputs": [],
   "source": [
    "driver.execute_script(\"window.scrollTo(0,700)\")"
   ]
  },
  {
   "cell_type": "code",
   "execution_count": null,
   "id": "fbc8f2d6",
   "metadata": {},
   "outputs": [],
   "source": []
  },
  {
   "cell_type": "code",
   "execution_count": 26,
   "id": "8dd1c30a",
   "metadata": {},
   "outputs": [],
   "source": []
  },
  {
   "cell_type": "code",
   "execution_count": 27,
   "id": "fc31a6c3",
   "metadata": {},
   "outputs": [
    {
     "data": {
      "text/plain": [
       "True"
      ]
     },
     "execution_count": 27,
     "metadata": {},
     "output_type": "execute_result"
    }
   ],
   "source": []
  },
  {
   "cell_type": "code",
   "execution_count": null,
   "id": "ffaf807d",
   "metadata": {},
   "outputs": [],
   "source": []
  }
 ],
 "metadata": {
  "kernelspec": {
   "display_name": "Python 3 (ipykernel)",
   "language": "python",
   "name": "python3"
  },
  "language_info": {
   "codemirror_mode": {
    "name": "ipython",
    "version": 3
   },
   "file_extension": ".py",
   "mimetype": "text/x-python",
   "name": "python",
   "nbconvert_exporter": "python",
   "pygments_lexer": "ipython3",
   "version": "3.10.10"
  }
 },
 "nbformat": 4,
 "nbformat_minor": 5
}
