{
 "cells": [
  {
   "cell_type": "code",
   "execution_count": 74,
   "id": "f25376ad",
   "metadata": {},
   "outputs": [],
   "source": [
    "import pandas as pd\n",
    "from selenium import webdriver\n",
    "import time\n",
    "import random\n",
    "from selenium.webdriver.support.ui import WebDriverWait\n",
    "from selenium.webdriver.firefox.options import Options\n",
    "from selenium.webdriver.support import expected_conditions as EC\n",
    "from selenium.webdriver.common.by import By\n",
    "from selenium.webdriver.common.keys import Keys\n",
    "from selenium.common.exceptions import TimeoutException\n",
    "from PIL import Image\n",
    "import os"
   ]
  },
  {
   "cell_type": "code",
   "execution_count": 81,
   "id": "c1af9501",
   "metadata": {},
   "outputs": [],
   "source": [
    "from selenium import webdriver\n",
    "from selenium.webdriver.firefox.options import Options\n",
    "from selenium.webdriver.firefox.service import Service\n",
    "\n",
    "firefox_options = Options()\n",
    "firefox_binary_path = \"C:/Program Files/Mozilla Firefox/firefox.exe\" \n",
    "firefox_options.binary_location = firefox_binary_path\n",
    "geckodriver_path = \"geckodriver.exe\"  \n",
    "service = Service(geckodriver_path)\n",
    "\n",
    "driver = webdriver.Firefox(service=service, options=firefox_options)\n",
    "driver.get(\"https://www.m88pqn.com/cashier/deposit\")\n",
    "driver.maximize_window()\n"
   ]
  },
  {
   "cell_type": "code",
   "execution_count": 82,
   "id": "846280f2",
   "metadata": {},
   "outputs": [],
   "source": [
    "def random_delay(min_delay, max_delay):\n",
    "    delay = random.uniform(min_delay, max_delay)\n",
    "    time.sleep(delay)"
   ]
  },
  {
   "cell_type": "code",
   "execution_count": 84,
   "id": "b2577cf1",
   "metadata": {},
   "outputs": [],
   "source": [
    "def login():\n",
    "    username = 'Saa'\n",
    "    password = 'Pixel2022'\n",
    "    WebDriverWait(driver, 10).until(EC.element_to_be_clickable((By.XPATH, \"*//input[@placeholder='Input your registered username']\"))).send_keys(username)\n",
    "    WebDriverWait(driver, 10).until(EC.element_to_be_clickable((By.XPATH, \"//div/input[@placeholder='Type your password']\"))).send_keys(password)\n",
    "    WebDriverWait(driver, 10).until(EC.element_to_be_clickable((By.XPATH, \"//div/input[@placeholder='Type your password']\"))).send_keys(Keys.ENTER)"
   ]
  },
  {
   "cell_type": "code",
   "execution_count": 85,
   "id": "dde7edf6",
   "metadata": {},
   "outputs": [],
   "source": [
    "def main():\n",
    "    login()\n",
    "    # WebDriverWait(driver, 10).until(EC.element_to_be_clickable((By.XPATH,\"//button[@id='login-button']\"))).click()\n",
    "    random_delay(3, 6)\n",
    "    driver.execute_script(\"window.scrollTo(0,700)\")\n",
    "    # driver.switch_to.frame(\"//iframe[@name='deposit-iframe']\")\n",
    "    # iframe = driver.find_element(By.XPATH,(\"//iframe[@name='deposit-iframe']\"))\n",
    "    iframe = driver.find_element(By.XPATH,(\"(//iframe)[1]\"))\n",
    "    driver.switch_to.frame(iframe)\n",
    "    try:\n",
    "        WebDriverWait(driver,10).until(EC.presence_of_element_located((By.XPATH,\"(*//a//span[contains(text(),'Instant')])[1]\"))).click()\n",
    "    except:\n",
    "        pass\n",
    "    amount = 1000\n",
    "    WebDriverWait(driver, 10).until(EC.presence_of_element_located((By.XPATH, \"//input[@placeholder='0.00']\"))).send_keys(amount)\n",
    "    WebDriverWait(driver, 10).until(EC.presence_of_element_located((By.XPATH, \"//button/span[contains(text(),'Submit')]\"))).click()\n",
    "    random_delay(3, 6)\n",
    "    driver.switch_to.default_content()\n",
    "    driver.execute_script(\"window.scrollTo(0,700)\")\n",
    "    driver.switch_to.frame(iframe)\n",
    "    WebDriverWait(driver, 10).until(EC.presence_of_element_located((By.XPATH, \"//button/span[contains(text(),'Confirm')]\"))).click()\n",
    "    try:\n",
    "        WebDriverWait(driver, 10).until(EC.presence_of_element_located((By.XPATH, \"//button/span[contains(text(),'Confirm')]\"))).click()\n",
    "    except:\n",
    "        pass\n",
    "    random_delay(3, 6)\n",
    "    ScreenShotwindow = driver.window_handles[1]\n",
    "    driver.switch_to.window(ScreenShotwindow)\n",
    "    driver.save_screenshot(\"shot.png\")\n",
    "\n"
   ]
  },
  {
   "cell_type": "code",
   "execution_count": 86,
   "id": "330c3424",
   "metadata": {},
   "outputs": [],
   "source": [
    "main()"
   ]
  },
  {
   "cell_type": "code",
   "execution_count": 87,
   "id": "49bab4a9",
   "metadata": {},
   "outputs": [
    {
     "data": {
      "text/plain": [
       "True"
      ]
     },
     "execution_count": 87,
     "metadata": {},
     "output_type": "execute_result"
    }
   ],
   "source": [
    "driver.save_screenshot(\"shot.png\")"
   ]
  },
  {
   "cell_type": "code",
   "execution_count": 26,
   "id": "46353230",
   "metadata": {},
   "outputs": [],
   "source": []
  },
  {
   "cell_type": "code",
   "execution_count": null,
   "id": "3ce7ede9",
   "metadata": {},
   "outputs": [],
   "source": []
  },
  {
   "cell_type": "code",
   "execution_count": null,
   "id": "fbc8f2d6",
   "metadata": {},
   "outputs": [],
   "source": []
  },
  {
   "cell_type": "code",
   "execution_count": 26,
   "id": "8dd1c30a",
   "metadata": {},
   "outputs": [],
   "source": []
  },
  {
   "cell_type": "code",
   "execution_count": 27,
   "id": "fc31a6c3",
   "metadata": {},
   "outputs": [
    {
     "data": {
      "text/plain": [
       "True"
      ]
     },
     "execution_count": 27,
     "metadata": {},
     "output_type": "execute_result"
    }
   ],
   "source": []
  },
  {
   "cell_type": "code",
   "execution_count": null,
   "id": "ffaf807d",
   "metadata": {},
   "outputs": [],
   "source": []
  }
 ],
 "metadata": {
  "kernelspec": {
   "display_name": "Python 3 (ipykernel)",
   "language": "python",
   "name": "python3"
  },
  "language_info": {
   "codemirror_mode": {
    "name": "ipython",
    "version": 3
   },
   "file_extension": ".py",
   "mimetype": "text/x-python",
   "name": "python",
   "nbconvert_exporter": "python",
   "pygments_lexer": "ipython3",
   "version": "3.9.9"
  }
 },
 "nbformat": 4,
 "nbformat_minor": 5
}
